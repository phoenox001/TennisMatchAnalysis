{
 "cells": [
  {
   "cell_type": "code",
   "execution_count": 1,
   "id": "632c1011",
   "metadata": {},
   "outputs": [
    {
     "ename": "ModuleNotFoundError",
     "evalue": "No module named 'features'",
     "output_type": "error",
     "traceback": [
      "\u001b[31m---------------------------------------------------------------------------\u001b[39m",
      "\u001b[31mModuleNotFoundError\u001b[39m                       Traceback (most recent call last)",
      "\u001b[36mCell\u001b[39m\u001b[36m \u001b[39m\u001b[32mIn[1]\u001b[39m\u001b[32m, line 6\u001b[39m\n\u001b[32m      3\u001b[39m sys.path.append(os.path.abspath(os.path.join(os.getcwd(), \u001b[33m'\u001b[39m\u001b[33m..\u001b[39m\u001b[33m'\u001b[39m)))\n\u001b[32m      5\u001b[39m \u001b[38;5;28;01mimport\u001b[39;00m\u001b[38;5;250m \u001b[39m\u001b[34;01mpandas\u001b[39;00m\u001b[38;5;250m \u001b[39m\u001b[38;5;28;01mas\u001b[39;00m\u001b[38;5;250m \u001b[39m\u001b[34;01mpd\u001b[39;00m\n\u001b[32m----> \u001b[39m\u001b[32m6\u001b[39m \u001b[38;5;28;01mfrom\u001b[39;00m\u001b[38;5;250m \u001b[39m\u001b[34;01msrc\u001b[39;00m\u001b[34;01m.\u001b[39;00m\u001b[34;01mfeatures\u001b[39;00m\u001b[38;5;250m \u001b[39m\u001b[38;5;28;01mimport\u001b[39;00m features \u001b[38;5;28;01mas\u001b[39;00m features\n\u001b[32m      7\u001b[39m \u001b[38;5;28;01mfrom\u001b[39;00m\u001b[38;5;250m \u001b[39m\u001b[34;01mimportlib\u001b[39;00m\u001b[38;5;250m \u001b[39m\u001b[38;5;28;01mimport\u001b[39;00m reload\n\u001b[32m      8\u001b[39m reload(features)\n",
      "\u001b[36mFile \u001b[39m\u001b[32m~/Documents/Projects/TennisMatchAnalysis/src/features/features.py:5\u001b[39m\n\u001b[32m      3\u001b[39m \u001b[38;5;28;01mimport\u001b[39;00m\u001b[38;5;250m \u001b[39m\u001b[34;01mpandas\u001b[39;00m\u001b[38;5;250m \u001b[39m\u001b[38;5;28;01mas\u001b[39;00m\u001b[38;5;250m \u001b[39m\u001b[34;01mpd\u001b[39;00m\n\u001b[32m      4\u001b[39m \u001b[38;5;28;01mimport\u001b[39;00m\u001b[38;5;250m \u001b[39m\u001b[34;01mnumpy\u001b[39;00m\u001b[38;5;250m \u001b[39m\u001b[38;5;28;01mas\u001b[39;00m\u001b[38;5;250m \u001b[39m\u001b[34;01mnp\u001b[39;00m\n\u001b[32m----> \u001b[39m\u001b[32m5\u001b[39m \u001b[38;5;28;01mimport\u001b[39;00m\u001b[38;5;250m \u001b[39m\u001b[34;01mfeatures\u001b[39;00m\u001b[34;01m.\u001b[39;00m\u001b[34;01matp_matches\u001b[39;00m\u001b[38;5;250m \u001b[39m\u001b[38;5;28;01mas\u001b[39;00m\u001b[38;5;250m \u001b[39m\u001b[34;01matp_matches\u001b[39;00m\n\u001b[32m      6\u001b[39m \u001b[38;5;28;01mimport\u001b[39;00m\u001b[38;5;250m \u001b[39m\u001b[34;01mfeatures\u001b[39;00m\u001b[34;01m.\u001b[39;00m\u001b[34;01mplayer_rankings\u001b[39;00m\u001b[38;5;250m \u001b[39m\u001b[38;5;28;01mas\u001b[39;00m\u001b[38;5;250m \u001b[39m\u001b[34;01mplayer_rankings\u001b[39;00m\n\u001b[32m      8\u001b[39m \u001b[38;5;66;03m#\u001b[39;00m\n\u001b[32m      9\u001b[39m \u001b[38;5;66;03m# This module contains functions to preprocess and combine features from\u001b[39;00m\n\u001b[32m     10\u001b[39m \u001b[38;5;66;03m# ATP matches and player rankings data.\u001b[39;00m\n\u001b[32m   (...)\u001b[39m\u001b[32m     15\u001b[39m \u001b[38;5;66;03m# for each match, ready for further analysis or modeling.\u001b[39;00m\n\u001b[32m     16\u001b[39m \u001b[38;5;66;03m#\u001b[39;00m\n",
      "\u001b[31mModuleNotFoundError\u001b[39m: No module named 'features'"
     ]
    }
   ],
   "source": [
    "import sys\n",
    "import os\n",
    "sys.path.append(os.path.abspath(os.path.join(os.getcwd(), '..')))\n",
    "\n",
    "import pandas as pd\n",
    "from src.features import features as features\n",
    "from importlib import reload\n",
    "reload(features)\n",
    "from src.features.features import (get_preprocessed_data,\n",
    "                                   create_feature_dataframe)\n",
    "from sklearn.model_selection import StratifiedKFold\n",
    "from sklearn.metrics import accuracy_score, roc_auc_score, f1_score\n",
    "import xgboost as xgb\n",
    "import numpy as np"
   ]
  },
  {
   "cell_type": "code",
   "execution_count": 2,
   "id": "75ba4c7e",
   "metadata": {},
   "outputs": [
    {
     "name": "stdout",
     "output_type": "stream",
     "text": [
      "Reading and preprocessing ATP matches and player rankings data...\n",
      "Reading ATP matches from directory: ../data/atp_matches\n"
     ]
    },
    {
     "name": "stderr",
     "output_type": "stream",
     "text": [
      "/Users/tim/Documents/Projects/TennisMatchAnalysis/src/features/atp_matches.py:38: DtypeWarning: Columns (3) have mixed types. Specify dtype option on import or set low_memory=False.\n",
      "  atp_matches_list = [pd.read_csv(file) for file in file_list]\n"
     ]
    },
    {
     "name": "stdout",
     "output_type": "stream",
     "text": [
      "Combined 941649 ATP matches from 139 files.\n",
      "Reading ATP rankings from directory: ../data/atp_matches\n",
      "Reading ATP players data from: ../data/atp_matches/atp_players.csv\n",
      "Combining ATP rankings with player information...\n"
     ]
    },
    {
     "name": "stderr",
     "output_type": "stream",
     "text": [
      "/Users/tim/Documents/Projects/TennisMatchAnalysis/src/features/player_rankings.py:30: DtypeWarning: Columns (7) have mixed types. Specify dtype option on import or set low_memory=False.\n",
      "  return pd.read_csv(file_path)\n"
     ]
    },
    {
     "name": "stdout",
     "output_type": "stream",
     "text": [
      "Preprocessing player data...\n",
      "Index(['ranking_date', 'rank', 'player_id', 'points', 'name_first',\n",
      "       'name_last', 'hand', 'dob', 'ioc', 'height', 'wikidata_id'],\n",
      "      dtype='object')\n",
      "Finished preprocessing player data.\n",
      "Preprocessing ATP matches data...\n"
     ]
    },
    {
     "name": "stderr",
     "output_type": "stream",
     "text": [
      "/Users/tim/Documents/Projects/TennisMatchAnalysis/src/features/player_rankings.py:132: FutureWarning: The behavior of DataFrame concatenation with empty or all-NA entries is deprecated. In a future version, this will no longer exclude empty or all-NA columns when determining the result dtypes. To retain the old behavior, exclude the relevant entries before the concat operation.\n",
      "  players.loc[\"player_id\"] = players[\"player_id\"].astype(\"int64\", errors=\"ignore\")\n",
      "/Users/tim/Documents/Projects/TennisMatchAnalysis/src/features/player_rankings.py:133: FutureWarning: The behavior of DataFrame concatenation with empty or all-NA entries is deprecated. In a future version, this will no longer exclude empty or all-NA columns when determining the result dtypes. To retain the old behavior, exclude the relevant entries before the concat operation.\n",
      "  players.loc[\"height\"] = players[\"height\"].fillna(players[\"height\"].median())\n",
      "/Users/tim/Documents/Projects/TennisMatchAnalysis/src/features/player_rankings.py:134: FutureWarning: The behavior of DataFrame concatenation with empty or all-NA entries is deprecated. In a future version, this will no longer exclude empty or all-NA columns when determining the result dtypes. To retain the old behavior, exclude the relevant entries before the concat operation.\n",
      "  players.loc[\"ioc\"] = players[\"ioc\"].fillna(\"Unknown\")\n",
      "/Users/tim/Documents/Projects/TennisMatchAnalysis/src/features/player_rankings.py:136: FutureWarning: The behavior of DataFrame concatenation with empty or all-NA entries is deprecated. In a future version, this will no longer exclude empty or all-NA columns when determining the result dtypes. To retain the old behavior, exclude the relevant entries before the concat operation.\n",
      "  players.loc[\"hand\"] = players[\"hand\"].fillna(\"U\")\n"
     ]
    },
    {
     "name": "stdout",
     "output_type": "stream",
     "text": [
      "Imputing missing match statistics for columns: ['minutes', 'w_ace', 'l_ace', 'w_df', 'l_df', 'w_svpt', 'l_svpt', 'w_1stIn', 'l_1stIn', 'w_1stWon', 'l_1stWon', 'w_2ndWon', 'l_2ndWon', 'w_SvGms', 'l_SvGms', 'w_bpSaved', 'l_bpSaved', 'w_bpFaced', 'l_bpFaced']\n",
      "Imputed missing statistics for 941649 matches.\n",
      "Finished preprocessing ATP matches data.\n",
      "finished reading and preprocessing ATP matches and player rankings data.\n"
     ]
    }
   ],
   "source": [
    "matches, players = features.get_preprocessed_data()"
   ]
  },
  {
   "cell_type": "code",
   "execution_count": null,
   "id": "7e273d5b",
   "metadata": {},
   "outputs": [
    {
     "name": "stdout",
     "output_type": "stream",
     "text": [
      "(941649, 67)\n",
      "Index(['tourney_id', 'tourney_name', 'surface', 'draw_size', 'tourney_level',\n",
      "       'tourney_date', 'match_num', 'winner_id', 'winner_seed', 'winner_entry',\n",
      "       'winner_hand', 'winner_age', 'loser_id', 'loser_seed', 'loser_entry',\n",
      "       'loser_hand', 'loser_age', 'score', 'best_of', 'round', 'minutes',\n",
      "       'w_ace', 'w_df', 'w_svpt', 'w_1stIn', 'w_1stWon', 'w_2ndWon', 'w_SvGms',\n",
      "       'w_bpSaved', 'w_bpFaced', 'l_ace', 'l_df', 'l_svpt', 'l_1stIn',\n",
      "       'l_1stWon', 'l_2ndWon', 'l_SvGms', 'l_bpSaved', 'l_bpFaced',\n",
      "       'winner_rank', 'winner_rank_points', 'loser_rank', 'loser_rank_points',\n",
      "       'match_id', 'winner_is_seeded', 'loser_is_seeded', 'winner_age_missing',\n",
      "       'loser_age_missing', 'minutes_missing', 'w_ace_missing',\n",
      "       'l_ace_missing', 'w_df_missing', 'l_df_missing', 'w_svpt_missing',\n",
      "       'l_svpt_missing', 'w_1stIn_missing', 'l_1stIn_missing',\n",
      "       'w_1stWon_missing', 'l_1stWon_missing', 'w_2ndWon_missing',\n",
      "       'l_2ndWon_missing', 'w_SvGms_missing', 'l_SvGms_missing',\n",
      "       'w_bpSaved_missing', 'l_bpSaved_missing', 'w_bpFaced_missing',\n",
      "       'l_bpFaced_missing'],\n",
      "      dtype='object')\n",
      "  tourney_id tourney_name surface draw_size tourney_level tourney_date  \\\n",
      "0  2019-M020     Brisbane    Hard        32             A   2018-12-31   \n",
      "1  2019-M020     Brisbane    Hard        32             A   2018-12-31   \n",
      "2  2019-M020     Brisbane    Hard        32             A   2018-12-31   \n",
      "3  2019-M020     Brisbane    Hard        32             A   2018-12-31   \n",
      "4  2019-M020     Brisbane    Hard        32             A   2018-12-31   \n",
      "\n",
      "   match_num  winner_id  winner_seed winner_entry  ... w_1stWon_missing  \\\n",
      "0        300     105453            2           DE  ...                0   \n",
      "1        299     106421            4           DE  ...                0   \n",
      "2        298     105453            2           DE  ...                0   \n",
      "3        297     104542            0           PR  ...                0   \n",
      "4        296     106421            4           DE  ...                0   \n",
      "\n",
      "   l_1stWon_missing  w_2ndWon_missing  l_2ndWon_missing w_SvGms_missing  \\\n",
      "0                 0                 0                 0               0   \n",
      "1                 0                 0                 0               0   \n",
      "2                 0                 0                 0               0   \n",
      "3                 0                 0                 0               0   \n",
      "4                 0                 0                 0               0   \n",
      "\n",
      "  l_SvGms_missing  w_bpSaved_missing l_bpSaved_missing  w_bpFaced_missing  \\\n",
      "0               0                  0                 0                  0   \n",
      "1               0                  0                 0                  0   \n",
      "2               0                  0                 0                  0   \n",
      "3               0                  0                 0                  0   \n",
      "4               0                  0                 0                  0   \n",
      "\n",
      "  l_bpFaced_missing  \n",
      "0                 0  \n",
      "1                 0  \n",
      "2                 0  \n",
      "3                 0  \n",
      "4                 0  \n",
      "\n",
      "[5 rows x 67 columns]\n",
      "tourney_id           object\n",
      "tourney_name         object\n",
      "surface              object\n",
      "draw_size            object\n",
      "tourney_level        object\n",
      "                      ...  \n",
      "l_SvGms_missing       int64\n",
      "w_bpSaved_missing     int64\n",
      "l_bpSaved_missing     int64\n",
      "w_bpFaced_missing     int64\n",
      "l_bpFaced_missing     int64\n",
      "Length: 67, dtype: object\n",
      "(16473, 9)\n",
      "Index(['ranking_date', 'rank', 'player_id', 'points', 'name_first',\n",
      "       'name_last', 'hand', 'ioc', 'height'],\n",
      "      dtype='object')\n",
      "        ranking_date   rank player_id points name_first name_last hand  ioc  \\\n",
      "2178142   1978-01-16  397.0  100001.0    NaN    Gardnar    Mulloy    R  USA   \n",
      "2176101   1975-12-15  373.0  100002.0    NaN     Pancho    Segura    R  ECU   \n",
      "2179689   1979-12-26  662.0  100003.0    NaN      Frank   Sedgman    R  AUS   \n",
      "2171463   1974-05-06  185.0  100004.0    NaN   Giuseppe     Merlo    R  ITA   \n",
      "2175148   1975-05-05  212.0  100005.0    NaN    Richard  Gonzalez    R  USA   \n",
      "\n",
      "        height  \n",
      "2178142  185.0  \n",
      "2176101  168.0  \n",
      "2179689  180.0  \n",
      "2171463    NaN  \n",
      "2175148  188.0  \n",
      "ranking_date    datetime64[ns]\n",
      "rank                    object\n",
      "player_id               object\n",
      "points                  object\n",
      "name_first              object\n",
      "name_last               object\n",
      "hand                    object\n",
      "ioc                     object\n",
      "height                  object\n",
      "dtype: object\n"
     ]
    }
   ],
   "source": [
    "print(matches.shape)\n",
    "print(matches.columns)\n",
    "print(matches.head())\n",
    "print(matches.dtypes)\n",
    "matches\n",
    "print(players.shape)\n",
    "print(players.columns)\n",
    "print(players.head())\n",
    "print(players.dtypes)\n",
    "players"
   ]
  },
  {
   "cell_type": "code",
   "execution_count": 4,
   "id": "7c03deef",
   "metadata": {},
   "outputs": [
    {
     "name": "stdout",
     "output_type": "stream",
     "text": [
      "Creating feature DataFrame from matches and players data...\n",
      "Merging player information for both winner and loser roles...\n"
     ]
    },
    {
     "ename": "ValueError",
     "evalue": "left keys must be sorted",
     "output_type": "error",
     "traceback": [
      "\u001b[31m---------------------------------------------------------------------------\u001b[39m",
      "\u001b[31mValueError\u001b[39m                                Traceback (most recent call last)",
      "\u001b[36mCell\u001b[39m\u001b[36m \u001b[39m\u001b[32mIn[4]\u001b[39m\u001b[32m, line 1\u001b[39m\n\u001b[32m----> \u001b[39m\u001b[32m1\u001b[39m trainingData = \u001b[43mfeatures\u001b[49m\u001b[43m.\u001b[49m\u001b[43mcreate_feature_dataframe\u001b[49m\u001b[43m(\u001b[49m\u001b[43mmatches\u001b[49m\u001b[43m,\u001b[49m\u001b[43m \u001b[49m\u001b[43mplayers\u001b[49m\u001b[43m)\u001b[49m\n",
      "\u001b[36mFile \u001b[39m\u001b[32m~/Documents/Projects/TennisMatchAnalysis/src/features/features.py:536\u001b[39m, in \u001b[36mcreate_feature_dataframe\u001b[39m\u001b[34m(matches, players)\u001b[39m\n\u001b[32m    524\u001b[39m \u001b[38;5;28;01mdef\u001b[39;00m\u001b[38;5;250m \u001b[39m\u001b[34mcreate_feature_dataframe\u001b[39m(matches, players):\n\u001b[32m    525\u001b[39m     \u001b[38;5;66;03m#\u001b[39;00m\n\u001b[32m    526\u001b[39m     \u001b[38;5;66;03m# Combines all features into a single DataFrame for analysis. And removes some columns that are not needed for the analysis.\u001b[39;00m\n\u001b[32m   (...)\u001b[39m\u001b[32m    532\u001b[39m     \u001b[38;5;66;03m#     DataFrame: Final feature DataFrame ready for analysis or modeling.\u001b[39;00m\n\u001b[32m    533\u001b[39m     \u001b[38;5;66;03m#\u001b[39;00m\n\u001b[32m    535\u001b[39m     \u001b[38;5;28mprint\u001b[39m(\u001b[33m\"\u001b[39m\u001b[33mCreating feature DataFrame from matches and players data...\u001b[39m\u001b[33m\"\u001b[39m)\n\u001b[32m--> \u001b[39m\u001b[32m536\u001b[39m     matches = \u001b[43mmerge_all_player_info\u001b[49m\u001b[43m(\u001b[49m\u001b[43mmatches\u001b[49m\u001b[43m,\u001b[49m\u001b[43m \u001b[49m\u001b[43mplayers\u001b[49m\u001b[43m)\u001b[49m\n\u001b[32m    537\u001b[39m     matches = create_average_match_statistics(matches)\n\u001b[32m    538\u001b[39m     player_features = compute_features(matches)\n",
      "\u001b[36mFile \u001b[39m\u001b[32m~/Documents/Projects/TennisMatchAnalysis/src/features/features.py:110\u001b[39m, in \u001b[36mmerge_all_player_info\u001b[39m\u001b[34m(matches, players)\u001b[39m\n\u001b[32m     98\u001b[39m \u001b[38;5;28;01mdef\u001b[39;00m\u001b[38;5;250m \u001b[39m\u001b[34mmerge_all_player_info\u001b[39m(matches, players):\n\u001b[32m     99\u001b[39m     \u001b[38;5;66;03m#\u001b[39;00m\n\u001b[32m    100\u001b[39m     \u001b[38;5;66;03m# Merges player information for both winner and loser roles in the matches DataFrame.\u001b[39;00m\n\u001b[32m   (...)\u001b[39m\u001b[32m    106\u001b[39m     \u001b[38;5;66;03m#     DataFrame: Matches DataFrame enriched with player information for both winner and loser roles.\u001b[39;00m\n\u001b[32m    107\u001b[39m     \u001b[38;5;66;03m#\u001b[39;00m\n\u001b[32m    109\u001b[39m     \u001b[38;5;28mprint\u001b[39m(\u001b[33m\"\u001b[39m\u001b[33mMerging player information for both winner and loser roles...\u001b[39m\u001b[33m\"\u001b[39m)\n\u001b[32m--> \u001b[39m\u001b[32m110\u001b[39m     matches_with_winner = \u001b[43madd_player_info\u001b[49m\u001b[43m(\u001b[49m\u001b[43mmatches\u001b[49m\u001b[43m,\u001b[49m\u001b[43m \u001b[49m\u001b[43mplayers\u001b[49m\u001b[43m,\u001b[49m\u001b[43m \u001b[49m\u001b[43mrole\u001b[49m\u001b[43m=\u001b[49m\u001b[33;43m\"\u001b[39;49m\u001b[33;43mwinner\u001b[39;49m\u001b[33;43m\"\u001b[39;49m\u001b[43m)\u001b[49m\n\u001b[32m    111\u001b[39m     full_information = add_player_info(matches_with_winner, players, role=\u001b[33m\"\u001b[39m\u001b[33mloser\u001b[39m\u001b[33m\"\u001b[39m)\n\u001b[32m    113\u001b[39m     full_information = full_information.drop(\n\u001b[32m    114\u001b[39m         [\n\u001b[32m    115\u001b[39m             \u001b[33m\"\u001b[39m\u001b[33mwinner_rank_official\u001b[39m\u001b[33m\"\u001b[39m,\n\u001b[32m   (...)\u001b[39m\u001b[32m    120\u001b[39m         errors=\u001b[33m\"\u001b[39m\u001b[33mignore\u001b[39m\u001b[33m\"\u001b[39m,\n\u001b[32m    121\u001b[39m     )\n",
      "\u001b[36mFile \u001b[39m\u001b[32m~/Documents/Projects/TennisMatchAnalysis/src/features/features.py:86\u001b[39m, in \u001b[36madd_player_info\u001b[39m\u001b[34m(matches, players, role)\u001b[39m\n\u001b[32m     83\u001b[39m matches = matches.sort_values(by=[player_id_col, match_date_col])\n\u001b[32m     85\u001b[39m \u001b[38;5;66;03m# merge_asof to match latest ranking info before match\u001b[39;00m\n\u001b[32m---> \u001b[39m\u001b[32m86\u001b[39m enriched = \u001b[43mpd\u001b[49m\u001b[43m.\u001b[49m\u001b[43mmerge_asof\u001b[49m\u001b[43m(\u001b[49m\n\u001b[32m     87\u001b[39m \u001b[43m    \u001b[49m\u001b[43mmatches\u001b[49m\u001b[43m,\u001b[49m\n\u001b[32m     88\u001b[39m \u001b[43m    \u001b[49m\u001b[43mplayers_renamed\u001b[49m\u001b[43m,\u001b[49m\n\u001b[32m     89\u001b[39m \u001b[43m    \u001b[49m\u001b[43mby\u001b[49m\u001b[43m=\u001b[49m\u001b[43mplayer_id_col\u001b[49m\u001b[43m,\u001b[49m\n\u001b[32m     90\u001b[39m \u001b[43m    \u001b[49m\u001b[43mleft_on\u001b[49m\u001b[43m=\u001b[49m\u001b[43mmatch_date_col\u001b[49m\u001b[43m,\u001b[49m\n\u001b[32m     91\u001b[39m \u001b[43m    \u001b[49m\u001b[43mright_on\u001b[49m\u001b[43m=\u001b[49m\u001b[33;43mf\u001b[39;49m\u001b[33;43m\"\u001b[39;49m\u001b[38;5;132;43;01m{\u001b[39;49;00m\u001b[43mrole\u001b[49m\u001b[38;5;132;43;01m}\u001b[39;49;00m\u001b[33;43m_ranking_date\u001b[39;49m\u001b[33;43m\"\u001b[39;49m\u001b[43m,\u001b[49m\n\u001b[32m     92\u001b[39m \u001b[43m    \u001b[49m\u001b[43mdirection\u001b[49m\u001b[43m=\u001b[49m\u001b[33;43m\"\u001b[39;49m\u001b[33;43mbackward\u001b[39;49m\u001b[33;43m\"\u001b[39;49m\u001b[43m,\u001b[49m\n\u001b[32m     93\u001b[39m \u001b[43m    \u001b[49m\u001b[43mallow_exact_matches\u001b[49m\u001b[43m=\u001b[49m\u001b[38;5;28;43;01mTrue\u001b[39;49;00m\u001b[43m,\u001b[49m\n\u001b[32m     94\u001b[39m \u001b[43m\u001b[49m\u001b[43m)\u001b[49m\n\u001b[32m     95\u001b[39m \u001b[38;5;28;01mreturn\u001b[39;00m enriched\n",
      "\u001b[36mFile \u001b[39m\u001b[32m~/.virtualenvs/TennisMatchAnalysis/lib/python3.12/site-packages/pandas/core/reshape/merge.py:708\u001b[39m, in \u001b[36mmerge_asof\u001b[39m\u001b[34m(left, right, on, left_on, right_on, left_index, right_index, by, left_by, right_by, suffixes, tolerance, allow_exact_matches, direction)\u001b[39m\n\u001b[32m    456\u001b[39m \u001b[38;5;250m\u001b[39m\u001b[33;03m\"\"\"\u001b[39;00m\n\u001b[32m    457\u001b[39m \u001b[33;03mPerform a merge by key distance.\u001b[39;00m\n\u001b[32m    458\u001b[39m \n\u001b[32m   (...)\u001b[39m\u001b[32m    689\u001b[39m \u001b[33;03m4 2016-05-25 13:30:00.048   AAPL   98.00       100     NaN     NaN\u001b[39;00m\n\u001b[32m    690\u001b[39m \u001b[33;03m\"\"\"\u001b[39;00m\n\u001b[32m    691\u001b[39m op = _AsOfMerge(\n\u001b[32m    692\u001b[39m     left,\n\u001b[32m    693\u001b[39m     right,\n\u001b[32m   (...)\u001b[39m\u001b[32m    706\u001b[39m     direction=direction,\n\u001b[32m    707\u001b[39m )\n\u001b[32m--> \u001b[39m\u001b[32m708\u001b[39m \u001b[38;5;28;01mreturn\u001b[39;00m \u001b[43mop\u001b[49m\u001b[43m.\u001b[49m\u001b[43mget_result\u001b[49m\u001b[43m(\u001b[49m\u001b[43m)\u001b[49m\n",
      "\u001b[36mFile \u001b[39m\u001b[32m~/.virtualenvs/TennisMatchAnalysis/lib/python3.12/site-packages/pandas/core/reshape/merge.py:1926\u001b[39m, in \u001b[36m_OrderedMerge.get_result\u001b[39m\u001b[34m(self, copy)\u001b[39m\n\u001b[32m   1925\u001b[39m \u001b[38;5;28;01mdef\u001b[39;00m\u001b[38;5;250m \u001b[39m\u001b[34mget_result\u001b[39m(\u001b[38;5;28mself\u001b[39m, copy: \u001b[38;5;28mbool\u001b[39m | \u001b[38;5;28;01mNone\u001b[39;00m = \u001b[38;5;28;01mTrue\u001b[39;00m) -> DataFrame:\n\u001b[32m-> \u001b[39m\u001b[32m1926\u001b[39m     join_index, left_indexer, right_indexer = \u001b[38;5;28;43mself\u001b[39;49m\u001b[43m.\u001b[49m\u001b[43m_get_join_info\u001b[49m\u001b[43m(\u001b[49m\u001b[43m)\u001b[49m\n\u001b[32m   1928\u001b[39m     left_join_indexer: npt.NDArray[np.intp] | \u001b[38;5;28;01mNone\u001b[39;00m\n\u001b[32m   1929\u001b[39m     right_join_indexer: npt.NDArray[np.intp] | \u001b[38;5;28;01mNone\u001b[39;00m\n",
      "\u001b[36mFile \u001b[39m\u001b[32m~/.virtualenvs/TennisMatchAnalysis/lib/python3.12/site-packages/pandas/core/reshape/merge.py:1151\u001b[39m, in \u001b[36m_MergeOperation._get_join_info\u001b[39m\u001b[34m(self)\u001b[39m\n\u001b[32m   1147\u001b[39m     join_index, right_indexer, left_indexer = _left_join_on_index(\n\u001b[32m   1148\u001b[39m         right_ax, left_ax, \u001b[38;5;28mself\u001b[39m.right_join_keys, sort=\u001b[38;5;28mself\u001b[39m.sort\n\u001b[32m   1149\u001b[39m     )\n\u001b[32m   1150\u001b[39m \u001b[38;5;28;01melse\u001b[39;00m:\n\u001b[32m-> \u001b[39m\u001b[32m1151\u001b[39m     (left_indexer, right_indexer) = \u001b[38;5;28;43mself\u001b[39;49m\u001b[43m.\u001b[49m\u001b[43m_get_join_indexers\u001b[49m\u001b[43m(\u001b[49m\u001b[43m)\u001b[49m\n\u001b[32m   1153\u001b[39m     \u001b[38;5;28;01mif\u001b[39;00m \u001b[38;5;28mself\u001b[39m.right_index:\n\u001b[32m   1154\u001b[39m         \u001b[38;5;28;01mif\u001b[39;00m \u001b[38;5;28mlen\u001b[39m(\u001b[38;5;28mself\u001b[39m.left) > \u001b[32m0\u001b[39m:\n",
      "\u001b[36mFile \u001b[39m\u001b[32m~/.virtualenvs/TennisMatchAnalysis/lib/python3.12/site-packages/pandas/core/reshape/merge.py:2238\u001b[39m, in \u001b[36m_AsOfMerge._get_join_indexers\u001b[39m\u001b[34m(self)\u001b[39m\n\u001b[32m   2235\u001b[39m         tolerance = tolerance._value\n\u001b[32m   2237\u001b[39m \u001b[38;5;66;03m# initial type conversion as needed\u001b[39;00m\n\u001b[32m-> \u001b[39m\u001b[32m2238\u001b[39m left_values = \u001b[38;5;28;43mself\u001b[39;49m\u001b[43m.\u001b[49m\u001b[43m_convert_values_for_libjoin\u001b[49m\u001b[43m(\u001b[49m\u001b[43mleft_values\u001b[49m\u001b[43m,\u001b[49m\u001b[43m \u001b[49m\u001b[33;43m\"\u001b[39;49m\u001b[33;43mleft\u001b[39;49m\u001b[33;43m\"\u001b[39;49m\u001b[43m)\u001b[49m\n\u001b[32m   2239\u001b[39m right_values = \u001b[38;5;28mself\u001b[39m._convert_values_for_libjoin(right_values, \u001b[33m\"\u001b[39m\u001b[33mright\u001b[39m\u001b[33m\"\u001b[39m)\n\u001b[32m   2241\u001b[39m \u001b[38;5;66;03m# a \"by\" parameter requires special handling\u001b[39;00m\n",
      "\u001b[36mFile \u001b[39m\u001b[32m~/.virtualenvs/TennisMatchAnalysis/lib/python3.12/site-packages/pandas/core/reshape/merge.py:2182\u001b[39m, in \u001b[36m_AsOfMerge._convert_values_for_libjoin\u001b[39m\u001b[34m(self, values, side)\u001b[39m\n\u001b[32m   2180\u001b[39m     \u001b[38;5;28;01mif\u001b[39;00m isna(values).any():\n\u001b[32m   2181\u001b[39m         \u001b[38;5;28;01mraise\u001b[39;00m \u001b[38;5;167;01mValueError\u001b[39;00m(\u001b[33mf\u001b[39m\u001b[33m\"\u001b[39m\u001b[33mMerge keys contain null values on \u001b[39m\u001b[38;5;132;01m{\u001b[39;00mside\u001b[38;5;132;01m}\u001b[39;00m\u001b[33m side\u001b[39m\u001b[33m\"\u001b[39m)\n\u001b[32m-> \u001b[39m\u001b[32m2182\u001b[39m     \u001b[38;5;28;01mraise\u001b[39;00m \u001b[38;5;167;01mValueError\u001b[39;00m(\u001b[33mf\u001b[39m\u001b[33m\"\u001b[39m\u001b[38;5;132;01m{\u001b[39;00mside\u001b[38;5;132;01m}\u001b[39;00m\u001b[33m keys must be sorted\u001b[39m\u001b[33m\"\u001b[39m)\n\u001b[32m   2184\u001b[39m \u001b[38;5;28;01mif\u001b[39;00m \u001b[38;5;28misinstance\u001b[39m(values, ArrowExtensionArray):\n\u001b[32m   2185\u001b[39m     values = values._maybe_convert_datelike_array()\n",
      "\u001b[31mValueError\u001b[39m: left keys must be sorted"
     ]
    }
   ],
   "source": [
    "trainingData = features.create_feature_dataframe(matches, players)"
   ]
  }
 ],
 "metadata": {
  "kernelspec": {
   "display_name": "TennisMatchAnalysis",
   "language": "python",
   "name": "python3"
  },
  "language_info": {
   "codemirror_mode": {
    "name": "ipython",
    "version": 3
   },
   "file_extension": ".py",
   "mimetype": "text/x-python",
   "name": "python",
   "nbconvert_exporter": "python",
   "pygments_lexer": "ipython3",
   "version": "3.12.2"
  }
 },
 "nbformat": 4,
 "nbformat_minor": 5
}
