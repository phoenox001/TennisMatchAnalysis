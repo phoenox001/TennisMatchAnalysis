{
 "cells": [
  {
   "cell_type": "markdown",
   "id": "eecd7aac",
   "metadata": {},
   "source": [
    "# Features per player\n",
    "\n",
    "These features were chosen based on a mix of general good features for tennis match analysis and longterm experience as a tennis players myself\n",
    "\n",
    "## Basic information\n",
    "- Player_id\n",
    "- Player name (first and last)\n",
    "- age at match\n",
    "- current points ATP\n",
    "- dominant hand\n",
    "- dob\n",
    "- ioc\n",
    "- height\n",
    "- current rank\n",
    "\n",
    "## Career information\n",
    "- percentage matches won\n",
    "- grand slams percentage won\n",
    "- wimbledon percentage won\n",
    "- years on tour\n",
    "- average rank opponents beaten\n",
    "- common opponents difference\n",
    "\n",
    "\n",
    "## Per Match Statistics\n",
    "- average aces\n",
    "- average double faults\n",
    "- average first serve percentage\n",
    "- average first serve points won\n",
    "- first serve consistency score (percentage * won)\n",
    "- average second serve points won\n",
    "- average break points won\n",
    "- average break points saved\n",
    "- average winners\n",
    "- average unforced errors\n",
    "- average forced errors\n",
    "- effectiveness score (winners - (un- + forced errors))\n",
    "- average total points/sets won\n",
    "- average ralley count\n",
    "- average serve direction\n",
    "- serve variation score\n",
    "- average serve width\n",
    "- average serve depth\n",
    "- average return depth\n",
    "- average serve speed\n",
    "- average distance run\n",
    "\n",
    "## Tourney information\n",
    "- average level of tourney -> tourney score\n",
    "- tourney round\n",
    "- is home country\n",
    "- match type (number of winning sets)\n",
    "- average tourney location\n",
    "- percentage matches played on surface xy (hard, clay, grass, carpet)\n",
    "- suface speed score\n",
    "- win percentage last 5 games\n",
    "- fatigue score (number of games played in the last 7 days)\n",
    "- rest days since last match\n",
    "- (consecutive tournaments played)"
   ]
  },
  {
   "cell_type": "markdown",
   "id": "b0b9a43e",
   "metadata": {},
   "source": [
    "First look into the data to get to know the data structure"
   ]
  },
  {
   "cell_type": "code",
   "execution_count": 12,
   "id": "4f0a3283",
   "metadata": {},
   "outputs": [
    {
     "name": "stdout",
     "output_type": "stream",
     "text": [
      "  tourney_id tourney_name surface  draw_size tourney_level  tourney_date  \\\n",
      "0  2019-M020     Brisbane    Hard         32             A      20181231   \n",
      "1  2019-M020     Brisbane    Hard         32             A      20181231   \n",
      "2  2019-M020     Brisbane    Hard         32             A      20181231   \n",
      "3  2019-M020     Brisbane    Hard         32             A      20181231   \n",
      "4  2019-M020     Brisbane    Hard         32             A      20181231   \n",
      "\n",
      "   match_num  winner_id  winner_seed winner_entry  ... l_1stIn l_1stWon  \\\n",
      "0        300     105453          2.0          NaN  ...    54.0     34.0   \n",
      "1        299     106421          4.0          NaN  ...    52.0     36.0   \n",
      "2        298     105453          2.0          NaN  ...    27.0     15.0   \n",
      "3        297     104542          NaN           PR  ...    60.0     38.0   \n",
      "4        296     106421          4.0          NaN  ...    56.0     46.0   \n",
      "\n",
      "   l_2ndWon l_SvGms  l_bpSaved  l_bpFaced  winner_rank winner_rank_points  \\\n",
      "0      20.0    14.0       10.0       15.0          9.0             3590.0   \n",
      "1       7.0    10.0       10.0       13.0         16.0             1977.0   \n",
      "2       6.0     8.0        1.0        5.0          9.0             3590.0   \n",
      "3       9.0    11.0        4.0        6.0        239.0              200.0   \n",
      "4      19.0    15.0        2.0        4.0         16.0             1977.0   \n",
      "\n",
      "  loser_rank loser_rank_points  \n",
      "0       16.0            1977.0  \n",
      "1      239.0             200.0  \n",
      "2       40.0            1050.0  \n",
      "3       31.0            1298.0  \n",
      "4       18.0            1855.0  \n",
      "\n",
      "[5 rows x 49 columns]\n"
     ]
    },
    {
     "data": {
      "text/plain": [
       "Index(['tourney_id', 'tourney_name', 'surface', 'draw_size', 'tourney_level',\n",
       "       'tourney_date', 'match_num', 'winner_id', 'winner_seed', 'winner_entry',\n",
       "       'winner_name', 'winner_hand', 'winner_ht', 'winner_ioc', 'winner_age',\n",
       "       'loser_id', 'loser_seed', 'loser_entry', 'loser_name', 'loser_hand',\n",
       "       'loser_ht', 'loser_ioc', 'loser_age', 'score', 'best_of', 'round',\n",
       "       'minutes', 'w_ace', 'w_df', 'w_svpt', 'w_1stIn', 'w_1stWon', 'w_2ndWon',\n",
       "       'w_SvGms', 'w_bpSaved', 'w_bpFaced', 'l_ace', 'l_df', 'l_svpt',\n",
       "       'l_1stIn', 'l_1stWon', 'l_2ndWon', 'l_SvGms', 'l_bpSaved', 'l_bpFaced',\n",
       "       'winner_rank', 'winner_rank_points', 'loser_rank', 'loser_rank_points'],\n",
       "      dtype='object')"
      ]
     },
     "execution_count": 12,
     "metadata": {},
     "output_type": "execute_result"
    }
   ],
   "source": [
    "import pandas as pd\n",
    "\n",
    "# Load a test file\n",
    "match = pd.read_csv('../data/atp_matches/atp_matches_2019.csv')\n",
    "\n",
    "print(match.head())\n",
    "match.columns"
   ]
  },
  {
   "cell_type": "code",
   "execution_count": 14,
   "id": "ff10320f",
   "metadata": {},
   "outputs": [
    {
     "name": "stdout",
     "output_type": "stream",
     "text": [
      "   player_id name_first name_last hand         dob  ioc  height wikidata_id\n",
      "0     100001    Gardnar    Mulloy    R  19131122.0  USA   185.0      Q54544\n",
      "1     100002     Pancho    Segura    R  19210620.0  ECU   168.0      Q54581\n",
      "2     100003      Frank   Sedgman    R  19271002.0  AUS   180.0     Q962049\n",
      "3     100004   Giuseppe     Merlo    R  19271011.0  ITA     NaN    Q1258752\n",
      "4     100005    Richard  Gonzalez    R  19280509.0  USA   188.0      Q53554\n"
     ]
    },
    {
     "name": "stderr",
     "output_type": "stream",
     "text": [
      "/var/folders/fm/xhk7242x0d30x60k6sqjyxl80000gn/T/ipykernel_54904/2479332366.py:1: DtypeWarning: Columns (7) have mixed types. Specify dtype option on import or set low_memory=False.\n",
      "  players = pd.read_csv('../data/atp_matches/atp_players.csv')\n"
     ]
    },
    {
     "data": {
      "text/plain": [
       "Index(['player_id', 'name_first', 'name_last', 'hand', 'dob', 'ioc', 'height',\n",
       "       'wikidata_id'],\n",
       "      dtype='object')"
      ]
     },
     "execution_count": 14,
     "metadata": {},
     "output_type": "execute_result"
    }
   ],
   "source": [
    "players = pd.read_csv('../data/atp_matches/atp_players.csv')\n",
    "\n",
    "print(players.head())\n",
    "players.columns"
   ]
  },
  {
   "cell_type": "code",
   "execution_count": 24,
   "id": "f7acf815",
   "metadata": {},
   "outputs": [
    {
     "name": "stdout",
     "output_type": "stream",
     "text": [
      "       ranking_date  rank  player  points\n",
      "0          20240101     1  104925   11245\n",
      "62449      20240923     1  206173   11180\n",
      "64575      20240930     1  206173   11010\n",
      "12340      20240219     1  104925    9855\n",
      "66704      20241014     1  206173   11920\n"
     ]
    },
    {
     "data": {
      "text/plain": [
       "Index(['ranking_date', 'rank', 'player', 'points'], dtype='object')"
      ]
     },
     "execution_count": 24,
     "metadata": {},
     "output_type": "execute_result"
    }
   ],
   "source": [
    "rankings = pd.read_csv('../data/atp_matches/atp_rankings_current.csv')\n",
    "rankings = rankings.sort_values(by='rank')\n",
    "\n",
    "print(rankings.head())\n",
    "rankings.columns"
   ]
  },
  {
   "cell_type": "code",
   "execution_count": 27,
   "id": "546d232b",
   "metadata": {},
   "outputs": [
    {
     "name": "stdout",
     "output_type": "stream",
     "text": [
      "     ranking_date  rank  player_id  points name_first name_last hand  \\\n",
      "42       20241230     1     206173   11830     Jannik    Sinner    R   \n",
      "49       20241230     2     100644    7915  Alexander    Zverev    R   \n",
      "105      20241230     3     207989    7010     Carlos   Alcaraz    R   \n",
      "134      20241230     4     126203    5100     Taylor     Fritz    R   \n",
      "209      20241230     5     106421    5030     Daniil  Medvedev    R   \n",
      "\n",
      "            dob  ioc  height wikidata_id  \n",
      "42   20010816.0  ITA   191.0   Q54812588  \n",
      "49   19970420.0  GER   198.0   Q13990552  \n",
      "105  20030505.0  ESP   183.0   Q85518537  \n",
      "134  19971028.0  USA   196.0   Q17660516  \n",
      "209  19960211.0  RUS   198.0   Q21622022  \n"
     ]
    }
   ],
   "source": [
    "# Combine rankings with players\n",
    "rankings = rankings.rename(columns={'player': 'player_id'})\n",
    "\n",
    "ranked_players = pd.merge(rankings, players, on='player_id', how='left')\n",
    "ranked_players = ranked_players.sort_values(by = ['ranking_date','rank'], ascending = [False, True])\n",
    "print(ranked_players.head())"
   ]
  },
  {
   "cell_type": "code",
   "execution_count": 34,
   "id": "3263174e",
   "metadata": {},
   "outputs": [
    {
     "name": "stdout",
     "output_type": "stream",
     "text": [
      "       ranking_date  rank  player_id  points name_first    name_last hand  \\\n",
      "42         20241230     1     206173   11830     Jannik       Sinner    R   \n",
      "49         20241230     2     100644    7915  Alexander       Zverev    R   \n",
      "105        20241230     3     207989    7010     Carlos      Alcaraz    R   \n",
      "134        20241230     4     126203    5100     Taylor        Fritz    R   \n",
      "209        20241230     5     106421    5030     Daniil     Medvedev    R   \n",
      "...             ...   ...        ...     ...        ...          ...  ...   \n",
      "85419      20240108  1920     205831       1      Ammar    Alhogbani    U   \n",
      "70075      20240101  1586     212263       2   Xing Dao         Chen    R   \n",
      "82949      20240101  1853     211341       1      Tommy  Czaplinski     U   \n",
      "85521      20240101  1923     208036       1      Maxim     Krapivin    U   \n",
      "89758      20240101  2023     211722       1     Manish       Ganesh    U   \n",
      "\n",
      "              dob  ioc  height wikidata_id  \n",
      "42     20010816.0  ITA   191.0   Q54812588  \n",
      "49     19970420.0  GER   198.0   Q13990552  \n",
      "105    20030505.0  ESP   183.0   Q85518537  \n",
      "134    19971028.0  USA   196.0   Q17660516  \n",
      "209    19960211.0  RUS   198.0   Q21622022  \n",
      "...           ...  ...     ...         ...  \n",
      "85419  19981215.0  USA     NaN         NaN  \n",
      "70075  20040116.0  CHN   183.0         NaN  \n",
      "82949  20040918.0  USA     NaN         NaN  \n",
      "85521  19991212.0  RUS     NaN         NaN  \n",
      "89758  20010819.0  IND     NaN         NaN  \n",
      "\n",
      "[2003 rows x 11 columns]\n"
     ]
    },
    {
     "data": {
      "text/plain": [
       "Index(['ranking_date', 'rank', 'player_id', 'points', 'name_first',\n",
       "       'name_last', 'hand', 'dob', 'ioc', 'height', 'wikidata_id'],\n",
       "      dtype='object')"
      ]
     },
     "execution_count": 34,
     "metadata": {},
     "output_type": "execute_result"
    }
   ],
   "source": [
    "# get latest atp rankings\n",
    "latest_rankings = ranked_players.drop_duplicates(subset=['rank'], keep='first')\n",
    "print(latest_rankings)\n",
    "latest_rankings.columns"
   ]
  },
  {
   "cell_type": "code",
   "execution_count": 32,
   "id": "e4072626",
   "metadata": {},
   "outputs": [
    {
     "name": "stdout",
     "output_type": "stream",
     "text": [
      "           match_id  year    slam  match_num                player1  \\\n",
      "0  2024-usopen-1101  2024  usopen       1101          Jannik Sinner   \n",
      "1  2024-usopen-1102  2024  usopen       1102        Eliot Spizzirri   \n",
      "2  2024-usopen-1103  2024  usopen       1103        Mattia Bellucci   \n",
      "3  2024-usopen-1104  2024  usopen       1104  Christopher O'Connell   \n",
      "4  2024-usopen-1105  2024  usopen       1105            Arthur Fils   \n",
      "\n",
      "              player2  status  winner  event_name  round  court_name  \\\n",
      "0  Mackenzie McDonald     NaN     NaN         NaN    NaN         NaN   \n",
      "1      Alex Michelsen     NaN     NaN         NaN    NaN         NaN   \n",
      "2       Stan Wawrinka     NaN     NaN         NaN    NaN         NaN   \n",
      "3       Nicolas Jarry     NaN     NaN         NaN    NaN         NaN   \n",
      "4        Learner Tien     NaN     NaN         NaN    NaN         NaN   \n",
      "\n",
      "   court_id  player1id  player2id  nation1  nation2  \n",
      "0       NaN        NaN        NaN      NaN      NaN  \n",
      "1       NaN        NaN        NaN      NaN      NaN  \n",
      "2       NaN        NaN        NaN      NaN      NaN  \n",
      "3       NaN        NaN        NaN      NaN      NaN  \n",
      "4       NaN        NaN        NaN      NaN      NaN  \n",
      "Index(['match_id', 'year', 'slam', 'match_num', 'player1', 'player2', 'status',\n",
      "       'winner', 'event_name', 'round', 'court_name', 'court_id', 'player1id',\n",
      "       'player2id', 'nation1', 'nation2'],\n",
      "      dtype='object')\n"
     ]
    }
   ],
   "source": [
    "# getting to know point by point data\n",
    "# single matches not point by point\n",
    "point_data = pd.read_csv('../data/slam_pointbypoint/2024-usopen-matches.csv')\n",
    "print(point_data.head())\n",
    "print(point_data.columns)"
   ]
  },
  {
   "cell_type": "code",
   "execution_count": 33,
   "id": "827fa0a0",
   "metadata": {},
   "outputs": [
    {
     "name": "stdout",
     "output_type": "stream",
     "text": [
      "           match_id ElapsedTime  SetNo  P1GamesWon  P2GamesWon  SetWinner  \\\n",
      "0  2024-usopen-1101     0:00:00      1           0           0          0   \n",
      "1  2024-usopen-1101     0:00:00      1           0           0          0   \n",
      "2  2024-usopen-1101     0:00:00      1           0           0          0   \n",
      "3  2024-usopen-1101     0:00:20      1           0           0          0   \n",
      "4  2024-usopen-1101     0:01:06      1           0           0          0   \n",
      "\n",
      "   GameNo  GameWinner PointNumber  PointWinner  ...  P2TurningPoint  \\\n",
      "0       1           0          0X            0  ...             NaN   \n",
      "1       1           0          0Y            0  ...             NaN   \n",
      "2       1           0           1            1  ...             NaN   \n",
      "3       1           0           2            2  ...             NaN   \n",
      "4       1           0           3            2  ...             NaN   \n",
      "\n",
      "   ServeNumber  WinnerType WinnerShotType P1DistanceRun  P2DistanceRun  \\\n",
      "0            0           0              0         0.000          0.000   \n",
      "1            0           0              0         0.000          0.000   \n",
      "2            1           0              0         0.798          0.633   \n",
      "3            2           0              0        32.565         22.590   \n",
      "4            1           0              0         9.517         11.888   \n",
      "\n",
      "   RallyCount  ServeWidth  ServeDepth  ReturnDepth  \n",
      "0           0         NaN         NaN          NaN  \n",
      "1           0         NaN         NaN          NaN  \n",
      "2           1           W         CTL          NaN  \n",
      "3           6          BW        NCTL            D  \n",
      "4           2          BW        NCTL            D  \n",
      "\n",
      "[5 rows x 65 columns]\n",
      "Index(['match_id', 'ElapsedTime', 'SetNo', 'P1GamesWon', 'P2GamesWon',\n",
      "       'SetWinner', 'GameNo', 'GameWinner', 'PointNumber', 'PointWinner',\n",
      "       'PointServer', 'Speed_KMH', 'Rally', 'P1Score', 'P2Score', 'P1Momentum',\n",
      "       'P2Momentum', 'P1PointsWon', 'P2PointsWon', 'P1Ace', 'P2Ace',\n",
      "       'P1Winner', 'P2Winner', 'P1DoubleFault', 'P2DoubleFault', 'P1UnfErr',\n",
      "       'P2UnfErr', 'P1NetPoint', 'P2NetPoint', 'P1NetPointWon',\n",
      "       'P2NetPointWon', 'P1BreakPoint', 'P2BreakPoint', 'P1BreakPointWon',\n",
      "       'P2BreakPointWon', 'P1FirstSrvIn', 'P2FirstSrvIn', 'P1FirstSrvWon',\n",
      "       'P2FirstSrvWon', 'P1SecondSrvIn', 'P2SecondSrvIn', 'P1SecondSrvWon',\n",
      "       'P2SecondSrvWon', 'P1ForcedError', 'P2ForcedError', 'History',\n",
      "       'Speed_MPH', 'P1BreakPointMissed', 'P2BreakPointMissed',\n",
      "       'ServeIndicator', 'Serve_Direction', 'Winner_FH', 'Winner_BH',\n",
      "       'ServingTo', 'P1TurningPoint', 'P2TurningPoint', 'ServeNumber',\n",
      "       'WinnerType', 'WinnerShotType', 'P1DistanceRun', 'P2DistanceRun',\n",
      "       'RallyCount', 'ServeWidth', 'ServeDepth', 'ReturnDepth'],\n",
      "      dtype='object')\n"
     ]
    }
   ],
   "source": [
    "# points data\n",
    "points_data = pd.read_csv('../data/slam_pointbypoint/2024-usopen-points.csv')\n",
    "print(points_data.head())\n",
    "print(points_data.columns)"
   ]
  }
 ],
 "metadata": {
  "kernelspec": {
   "display_name": "TennisMatchAnalysis",
   "language": "python",
   "name": "python3"
  },
  "language_info": {
   "codemirror_mode": {
    "name": "ipython",
    "version": 3
   },
   "file_extension": ".py",
   "mimetype": "text/x-python",
   "name": "python",
   "nbconvert_exporter": "python",
   "pygments_lexer": "ipython3",
   "version": "3.12.2"
  }
 },
 "nbformat": 4,
 "nbformat_minor": 5
}
